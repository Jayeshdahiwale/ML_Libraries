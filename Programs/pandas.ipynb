{
 "cells": [
  {
   "cell_type": "markdown",
   "source": [
    "# PANDAS LIBRARY"
   ],
   "metadata": {
    "collapsed": false,
    "pycharm": {
     "name": "#%% md\n"
    }
   }
  },
  {
   "cell_type": "code",
   "execution_count": 62,
   "outputs": [],
   "source": [
    "import pandas as pd\n",
    "import numpy as np"
   ],
   "metadata": {
    "collapsed": false,
    "pycharm": {
     "name": "#%%\n"
    }
   }
  },
  {
   "cell_type": "markdown",
   "source": [
    "## Convert list to series data type object"
   ],
   "metadata": {
    "collapsed": false,
    "pycharm": {
     "name": "#%% md\n"
    }
   }
  },
  {
   "cell_type": "code",
   "execution_count": 63,
   "outputs": [
    {
     "name": "stdout",
     "output_type": "stream",
     "text": [
      "0     2\n",
      "1     4\n",
      "2     6\n",
      "3     8\n",
      "4    10\n",
      "dtype: int64\n"
     ]
    }
   ],
   "source": [
    "data = pd.Series([2, 4, 6, 8, 10])\n",
    "print(data)"
   ],
   "metadata": {
    "collapsed": false,
    "pycharm": {
     "name": "#%%\n"
    }
   }
  },
  {
   "cell_type": "markdown",
   "source": [
    "## Convert series to python list type object"
   ],
   "metadata": {
    "collapsed": false,
    "pycharm": {
     "name": "#%% md\n"
    }
   }
  },
  {
   "cell_type": "code",
   "execution_count": 64,
   "outputs": [
    {
     "name": "stdout",
     "output_type": "stream",
     "text": [
      "Pandas Series and type\n",
      "0     2\n",
      "1     4\n",
      "2     6\n",
      "3     8\n",
      "4    10\n",
      "dtype: int64\n",
      "<class 'pandas.core.series.Series'>\n",
      "Convert Pandas Series to Python list\n",
      "[2, 4, 6, 8, 10]\n",
      "<class 'list'>\n"
     ]
    }
   ],
   "source": [
    "data = pd.Series([2, 4, 6, 8, 10])\n",
    "print(\"Pandas Series and type\")\n",
    "print(data)\n",
    "print(type(data))\n",
    "print(\"Convert Pandas Series to Python list\")\n",
    "print(data.tolist())\n",
    "print(type(data.tolist()))"
   ],
   "metadata": {
    "collapsed": false,
    "pycharm": {
     "name": "#%%\n"
    }
   }
  },
  {
   "cell_type": "markdown",
   "source": [
    "## Arithmetic operations on two panda series"
   ],
   "metadata": {
    "collapsed": false,
    "pycharm": {
     "name": "#%% md\n"
    }
   }
  },
  {
   "cell_type": "code",
   "execution_count": 65,
   "outputs": [
    {
     "name": "stdout",
     "output_type": "stream",
     "text": [
      "Add two Series:\n",
      "0     3\n",
      "1     7\n",
      "2    11\n",
      "3    15\n",
      "4    19\n",
      "dtype: int64\n",
      "Subtract two Series:\n",
      "0    1\n",
      "1    1\n",
      "2    1\n",
      "3    1\n",
      "4    1\n",
      "dtype: int64\n",
      "Multiply two Series:\n",
      "0     2\n",
      "1    12\n",
      "2    30\n",
      "3    56\n",
      "4    90\n",
      "dtype: int64\n",
      "Divide Series1 by Series2:\n",
      "0    2.000000\n",
      "1    1.333333\n",
      "2    1.200000\n",
      "3    1.142857\n",
      "4    1.111111\n",
      "dtype: float64\n"
     ]
    }
   ],
   "source": [
    "dataset1 = pd.Series([2, 4, 6, 8, 10])\n",
    "dataset2 = pd.Series([1, 3, 5, 7, 9])\n",
    "dataset = dataset1 + dataset2\n",
    "print(\"Add two Series:\")\n",
    "print(dataset)\n",
    "print(\"Subtract two Series:\")\n",
    "dataset = dataset1 - dataset2\n",
    "print(dataset)\n",
    "print(\"Multiply two Series:\")\n",
    "datatset = dataset1 * dataset2\n",
    "print(datatset)\n",
    "print(\"Divide Series1 by Series2:\")\n",
    "dataset = dataset1 / dataset2\n",
    "print(dataset)"
   ],
   "metadata": {
    "collapsed": false,
    "pycharm": {
     "name": "#%%\n"
    }
   }
  },
  {
   "cell_type": "markdown",
   "source": [
    "## Element wise raise to the power in series"
   ],
   "metadata": {
    "collapsed": false,
    "pycharm": {
     "name": "#%% md\n"
    }
   }
  },
  {
   "cell_type": "code",
   "execution_count": 66,
   "outputs": [
    {
     "name": "stdout",
     "output_type": "stream",
     "text": [
      "0    0\n",
      "1    1\n",
      "2    2\n",
      "3    3\n",
      "4    4\n",
      "5    5\n",
      "6    6\n",
      "dtype: int64\n",
      "Raised to the power 3\n",
      "0      0\n",
      "1      1\n",
      "2      8\n",
      "3     27\n",
      "4     64\n",
      "5    125\n",
      "6    216\n",
      "dtype: int64\n"
     ]
    }
   ],
   "source": [
    "dataset = pd.Series([0, 1, 2, 3, 4, 5, 6])\n",
    "print(dataset)\n",
    "print(\"Raised to the power 3\")\n",
    "dataset = dataset ** 3\n",
    "print(dataset)"
   ],
   "metadata": {
    "collapsed": false,
    "pycharm": {
     "name": "#%%\n"
    }
   }
  },
  {
   "cell_type": "markdown",
   "source": [
    "## Convert dictionary to dataframe"
   ],
   "metadata": {
    "collapsed": false,
    "pycharm": {
     "name": "#%% md\n"
    }
   }
  },
  {
   "cell_type": "code",
   "execution_count": 67,
   "outputs": [
    {
     "name": "stdout",
     "output_type": "stream",
     "text": [
      "        name  score  attempts qualify\n",
      "a  Anastasia   12.5         1     yes\n",
      "b       Dima    9.0         3      no\n",
      "c  Katherine   16.5         2     yes\n",
      "d      James    NaN         3      no\n",
      "e      Emily    9.0         2      no\n",
      "f    Michael   20.0         3     yes\n",
      "g    Matthew   14.5         1     yes\n",
      "h      Laura    NaN         1      no\n",
      "i      Kevin    8.0         2      no\n",
      "j      Jonas   19.0         1     yes\n"
     ]
    }
   ],
   "source": [
    "exam_data  = {'name': ['Anastasia', 'Dima', 'Katherine', 'James', 'Emily', 'Michael', 'Matthew', 'Laura', 'Kevin', 'Jonas'],\n",
    "              'score': [12.5, 9, 16.5, np.nan, 9, 20, 14.5, np.nan, 8, 19],\n",
    "              'attempts': [1, 3, 2, 3, 2, 3, 1, 1, 2, 1],\n",
    "              'qualify': ['yes', 'no', 'yes', 'no', 'no', 'yes', 'yes', 'no', 'no', 'yes']}\n",
    "labels = ['a', 'b', 'c', 'd', 'e', 'f', 'g', 'h', 'i', 'j']\n",
    "\n",
    "df = pd.DataFrame(exam_data , index=labels)\n",
    "print(df)"
   ],
   "metadata": {
    "collapsed": false,
    "pycharm": {
     "name": "#%%\n"
    }
   }
  },
  {
   "cell_type": "markdown",
   "source": [
    "## info of above dataset"
   ],
   "metadata": {
    "collapsed": false,
    "pycharm": {
     "name": "#%% md\n"
    }
   }
  },
  {
   "cell_type": "code",
   "execution_count": 68,
   "outputs": [
    {
     "name": "stdout",
     "output_type": "stream",
     "text": [
      "<class 'pandas.core.frame.DataFrame'>\n",
      "Index: 10 entries, a to j\n",
      "Data columns (total 4 columns):\n",
      " #   Column    Non-Null Count  Dtype  \n",
      "---  ------    --------------  -----  \n",
      " 0   name      10 non-null     object \n",
      " 1   score     8 non-null      float64\n",
      " 2   attempts  10 non-null     int64  \n",
      " 3   qualify   10 non-null     object \n",
      "dtypes: float64(1), int64(1), object(2)\n",
      "memory usage: 400.0+ bytes\n"
     ]
    }
   ],
   "source": [
    "df.info()"
   ],
   "metadata": {
    "collapsed": false,
    "pycharm": {
     "name": "#%%\n"
    }
   }
  },
  {
   "cell_type": "markdown",
   "source": [
    "## get first three row of above dataframe"
   ],
   "metadata": {
    "collapsed": false,
    "pycharm": {
     "name": "#%% md\n"
    }
   }
  },
  {
   "cell_type": "code",
   "execution_count": 69,
   "outputs": [
    {
     "data": {
      "text/plain": "        name  score  attempts qualify\na  Anastasia   12.5         1     yes\nb       Dima    9.0         3      no\nc  Katherine   16.5         2     yes",
      "text/html": "<div>\n<style scoped>\n    .dataframe tbody tr th:only-of-type {\n        vertical-align: middle;\n    }\n\n    .dataframe tbody tr th {\n        vertical-align: top;\n    }\n\n    .dataframe thead th {\n        text-align: right;\n    }\n</style>\n<table border=\"1\" class=\"dataframe\">\n  <thead>\n    <tr style=\"text-align: right;\">\n      <th></th>\n      <th>name</th>\n      <th>score</th>\n      <th>attempts</th>\n      <th>qualify</th>\n    </tr>\n  </thead>\n  <tbody>\n    <tr>\n      <th>a</th>\n      <td>Anastasia</td>\n      <td>12.5</td>\n      <td>1</td>\n      <td>yes</td>\n    </tr>\n    <tr>\n      <th>b</th>\n      <td>Dima</td>\n      <td>9.0</td>\n      <td>3</td>\n      <td>no</td>\n    </tr>\n    <tr>\n      <th>c</th>\n      <td>Katherine</td>\n      <td>16.5</td>\n      <td>2</td>\n      <td>yes</td>\n    </tr>\n  </tbody>\n</table>\n</div>"
     },
     "execution_count": 69,
     "metadata": {},
     "output_type": "execute_result"
    }
   ],
   "source": [
    "df.head(3)"
   ],
   "metadata": {
    "collapsed": false,
    "pycharm": {
     "name": "#%%\n"
    }
   }
  },
  {
   "cell_type": "markdown",
   "source": [
    "## Select name and score column"
   ],
   "metadata": {
    "collapsed": false,
    "pycharm": {
     "name": "#%% md\n"
    }
   }
  },
  {
   "cell_type": "code",
   "execution_count": 70,
   "outputs": [
    {
     "data": {
      "text/plain": "        name  score\na  Anastasia   12.5\nb       Dima    9.0\nc  Katherine   16.5\nd      James    NaN\ne      Emily    9.0\nf    Michael   20.0\ng    Matthew   14.5\nh      Laura    NaN\ni      Kevin    8.0\nj      Jonas   19.0",
      "text/html": "<div>\n<style scoped>\n    .dataframe tbody tr th:only-of-type {\n        vertical-align: middle;\n    }\n\n    .dataframe tbody tr th {\n        vertical-align: top;\n    }\n\n    .dataframe thead th {\n        text-align: right;\n    }\n</style>\n<table border=\"1\" class=\"dataframe\">\n  <thead>\n    <tr style=\"text-align: right;\">\n      <th></th>\n      <th>name</th>\n      <th>score</th>\n    </tr>\n  </thead>\n  <tbody>\n    <tr>\n      <th>a</th>\n      <td>Anastasia</td>\n      <td>12.5</td>\n    </tr>\n    <tr>\n      <th>b</th>\n      <td>Dima</td>\n      <td>9.0</td>\n    </tr>\n    <tr>\n      <th>c</th>\n      <td>Katherine</td>\n      <td>16.5</td>\n    </tr>\n    <tr>\n      <th>d</th>\n      <td>James</td>\n      <td>NaN</td>\n    </tr>\n    <tr>\n      <th>e</th>\n      <td>Emily</td>\n      <td>9.0</td>\n    </tr>\n    <tr>\n      <th>f</th>\n      <td>Michael</td>\n      <td>20.0</td>\n    </tr>\n    <tr>\n      <th>g</th>\n      <td>Matthew</td>\n      <td>14.5</td>\n    </tr>\n    <tr>\n      <th>h</th>\n      <td>Laura</td>\n      <td>NaN</td>\n    </tr>\n    <tr>\n      <th>i</th>\n      <td>Kevin</td>\n      <td>8.0</td>\n    </tr>\n    <tr>\n      <th>j</th>\n      <td>Jonas</td>\n      <td>19.0</td>\n    </tr>\n  </tbody>\n</table>\n</div>"
     },
     "execution_count": 70,
     "metadata": {},
     "output_type": "execute_result"
    }
   ],
   "source": [
    "df[[\"name\",\"score\"]]"
   ],
   "metadata": {
    "collapsed": false,
    "pycharm": {
     "name": "#%%\n"
    }
   }
  },
  {
   "cell_type": "markdown",
   "source": [
    "## Select rows 1,3,5,6 and column 1,3"
   ],
   "metadata": {
    "collapsed": false,
    "pycharm": {
     "name": "#%% md\n"
    }
   }
  },
  {
   "cell_type": "code",
   "execution_count": 71,
   "outputs": [
    {
     "data": {
      "text/plain": "   score qualify\nb    9.0      no\nd    NaN      no\nf   20.0     yes\ng   14.5     yes",
      "text/html": "<div>\n<style scoped>\n    .dataframe tbody tr th:only-of-type {\n        vertical-align: middle;\n    }\n\n    .dataframe tbody tr th {\n        vertical-align: top;\n    }\n\n    .dataframe thead th {\n        text-align: right;\n    }\n</style>\n<table border=\"1\" class=\"dataframe\">\n  <thead>\n    <tr style=\"text-align: right;\">\n      <th></th>\n      <th>score</th>\n      <th>qualify</th>\n    </tr>\n  </thead>\n  <tbody>\n    <tr>\n      <th>b</th>\n      <td>9.0</td>\n      <td>no</td>\n    </tr>\n    <tr>\n      <th>d</th>\n      <td>NaN</td>\n      <td>no</td>\n    </tr>\n    <tr>\n      <th>f</th>\n      <td>20.0</td>\n      <td>yes</td>\n    </tr>\n    <tr>\n      <th>g</th>\n      <td>14.5</td>\n      <td>yes</td>\n    </tr>\n  </tbody>\n</table>\n</div>"
     },
     "execution_count": 71,
     "metadata": {},
     "output_type": "execute_result"
    }
   ],
   "source": [
    "df.iloc[[1,3,5,6],[1,3]]"
   ],
   "metadata": {
    "collapsed": false,
    "pycharm": {
     "name": "#%%\n"
    }
   }
  },
  {
   "cell_type": "markdown",
   "source": [
    "## Select rows where no of attempts > 2"
   ],
   "metadata": {
    "collapsed": false,
    "pycharm": {
     "name": "#%% md\n"
    }
   }
  },
  {
   "cell_type": "code",
   "execution_count": 72,
   "outputs": [
    {
     "name": "stdout",
     "output_type": "stream",
     "text": [
      "      name  score  attempts qualify\n",
      "b     Dima    9.0         3      no\n",
      "d    James    NaN         3      no\n",
      "f  Michael   20.0         3     yes\n",
      "Another way\n"
     ]
    },
    {
     "data": {
      "text/plain": "      name  score  attempts qualify\nb     Dima    9.0         3      no\nd    James    NaN         3      no\nf  Michael   20.0         3     yes",
      "text/html": "<div>\n<style scoped>\n    .dataframe tbody tr th:only-of-type {\n        vertical-align: middle;\n    }\n\n    .dataframe tbody tr th {\n        vertical-align: top;\n    }\n\n    .dataframe thead th {\n        text-align: right;\n    }\n</style>\n<table border=\"1\" class=\"dataframe\">\n  <thead>\n    <tr style=\"text-align: right;\">\n      <th></th>\n      <th>name</th>\n      <th>score</th>\n      <th>attempts</th>\n      <th>qualify</th>\n    </tr>\n  </thead>\n  <tbody>\n    <tr>\n      <th>b</th>\n      <td>Dima</td>\n      <td>9.0</td>\n      <td>3</td>\n      <td>no</td>\n    </tr>\n    <tr>\n      <th>d</th>\n      <td>James</td>\n      <td>NaN</td>\n      <td>3</td>\n      <td>no</td>\n    </tr>\n    <tr>\n      <th>f</th>\n      <td>Michael</td>\n      <td>20.0</td>\n      <td>3</td>\n      <td>yes</td>\n    </tr>\n  </tbody>\n</table>\n</div>"
     },
     "execution_count": 72,
     "metadata": {},
     "output_type": "execute_result"
    }
   ],
   "source": [
    "print(df[df.attempts > 2])\n",
    "print(\"Another way\")\n",
    "df[df[\"attempts\"]>2]"
   ],
   "metadata": {
    "collapsed": false,
    "pycharm": {
     "name": "#%%\n"
    }
   }
  },
  {
   "cell_type": "markdown",
   "source": [
    "## Find the no of rows and column"
   ],
   "metadata": {
    "collapsed": false,
    "pycharm": {
     "name": "#%% md\n"
    }
   }
  },
  {
   "cell_type": "code",
   "execution_count": 73,
   "outputs": [
    {
     "name": "stdout",
     "output_type": "stream",
     "text": [
      "(10, 4)\n"
     ]
    }
   ],
   "source": [
    "print(df.shape)"
   ],
   "metadata": {
    "collapsed": false,
    "pycharm": {
     "name": "#%%\n"
    }
   }
  },
  {
   "cell_type": "markdown",
   "source": [
    "## Select the rows where score is none"
   ],
   "metadata": {
    "collapsed": false,
    "pycharm": {
     "name": "#%% md\n"
    }
   }
  },
  {
   "cell_type": "code",
   "execution_count": 74,
   "outputs": [
    {
     "name": "stdout",
     "output_type": "stream",
     "text": [
      "    name  score  attempts qualify\n",
      "d  James    NaN         3      no\n",
      "h  Laura    NaN         1      no\n"
     ]
    }
   ],
   "source": [
    "print(df[df[\"score\"].isnull()])"
   ],
   "metadata": {
    "collapsed": false,
    "pycharm": {
     "name": "#%%\n"
    }
   }
  },
  {
   "cell_type": "markdown",
   "source": [
    "## Row where no_of_attempts <2 and score greater than 15"
   ],
   "metadata": {
    "collapsed": false,
    "pycharm": {
     "name": "#%% md\n"
    }
   }
  },
  {
   "cell_type": "code",
   "execution_count": 75,
   "outputs": [
    {
     "data": {
      "text/plain": "    name  score  attempts qualify\nj  Jonas   19.0         1     yes",
      "text/html": "<div>\n<style scoped>\n    .dataframe tbody tr th:only-of-type {\n        vertical-align: middle;\n    }\n\n    .dataframe tbody tr th {\n        vertical-align: top;\n    }\n\n    .dataframe thead th {\n        text-align: right;\n    }\n</style>\n<table border=\"1\" class=\"dataframe\">\n  <thead>\n    <tr style=\"text-align: right;\">\n      <th></th>\n      <th>name</th>\n      <th>score</th>\n      <th>attempts</th>\n      <th>qualify</th>\n    </tr>\n  </thead>\n  <tbody>\n    <tr>\n      <th>j</th>\n      <td>Jonas</td>\n      <td>19.0</td>\n      <td>1</td>\n      <td>yes</td>\n    </tr>\n  </tbody>\n</table>\n</div>"
     },
     "execution_count": 75,
     "metadata": {},
     "output_type": "execute_result"
    }
   ],
   "source": [
    "df[(df[\"attempts\"] < 2) & (df[\"score\"]> 15)]"
   ],
   "metadata": {
    "collapsed": false,
    "pycharm": {
     "name": "#%%\n"
    }
   }
  },
  {
   "cell_type": "markdown",
   "source": [
    "## Set score in row d to 11.5"
   ],
   "metadata": {
    "collapsed": false,
    "pycharm": {
     "name": "#%% md\n"
    }
   }
  },
  {
   "cell_type": "code",
   "execution_count": 76,
   "outputs": [
    {
     "data": {
      "text/plain": "        name  score  attempts qualify\na  Anastasia   12.5         1     yes\nb       Dima    9.0         3      no\nc  Katherine   16.5         2     yes\nd      James   11.5         3      no\ne      Emily    9.0         2      no\nf    Michael   20.0         3     yes\ng    Matthew   14.5         1     yes\nh      Laura    NaN         1      no\ni      Kevin    8.0         2      no\nj      Jonas   19.0         1     yes",
      "text/html": "<div>\n<style scoped>\n    .dataframe tbody tr th:only-of-type {\n        vertical-align: middle;\n    }\n\n    .dataframe tbody tr th {\n        vertical-align: top;\n    }\n\n    .dataframe thead th {\n        text-align: right;\n    }\n</style>\n<table border=\"1\" class=\"dataframe\">\n  <thead>\n    <tr style=\"text-align: right;\">\n      <th></th>\n      <th>name</th>\n      <th>score</th>\n      <th>attempts</th>\n      <th>qualify</th>\n    </tr>\n  </thead>\n  <tbody>\n    <tr>\n      <th>a</th>\n      <td>Anastasia</td>\n      <td>12.5</td>\n      <td>1</td>\n      <td>yes</td>\n    </tr>\n    <tr>\n      <th>b</th>\n      <td>Dima</td>\n      <td>9.0</td>\n      <td>3</td>\n      <td>no</td>\n    </tr>\n    <tr>\n      <th>c</th>\n      <td>Katherine</td>\n      <td>16.5</td>\n      <td>2</td>\n      <td>yes</td>\n    </tr>\n    <tr>\n      <th>d</th>\n      <td>James</td>\n      <td>11.5</td>\n      <td>3</td>\n      <td>no</td>\n    </tr>\n    <tr>\n      <th>e</th>\n      <td>Emily</td>\n      <td>9.0</td>\n      <td>2</td>\n      <td>no</td>\n    </tr>\n    <tr>\n      <th>f</th>\n      <td>Michael</td>\n      <td>20.0</td>\n      <td>3</td>\n      <td>yes</td>\n    </tr>\n    <tr>\n      <th>g</th>\n      <td>Matthew</td>\n      <td>14.5</td>\n      <td>1</td>\n      <td>yes</td>\n    </tr>\n    <tr>\n      <th>h</th>\n      <td>Laura</td>\n      <td>NaN</td>\n      <td>1</td>\n      <td>no</td>\n    </tr>\n    <tr>\n      <th>i</th>\n      <td>Kevin</td>\n      <td>8.0</td>\n      <td>2</td>\n      <td>no</td>\n    </tr>\n    <tr>\n      <th>j</th>\n      <td>Jonas</td>\n      <td>19.0</td>\n      <td>1</td>\n      <td>yes</td>\n    </tr>\n  </tbody>\n</table>\n</div>"
     },
     "execution_count": 76,
     "metadata": {},
     "output_type": "execute_result"
    }
   ],
   "source": [
    "df.loc[\"d\",\"score\"] = 11.5\n",
    "df"
   ],
   "metadata": {
    "collapsed": false,
    "pycharm": {
     "name": "#%%\n"
    }
   }
  },
  {
   "cell_type": "markdown",
   "source": [
    "## Calculate sum of attempts"
   ],
   "metadata": {
    "collapsed": false,
    "pycharm": {
     "name": "#%% md\n"
    }
   }
  },
  {
   "cell_type": "code",
   "execution_count": 77,
   "outputs": [
    {
     "data": {
      "text/plain": "19"
     },
     "execution_count": 77,
     "metadata": {},
     "output_type": "execute_result"
    }
   ],
   "source": [
    "df.attempts.sum()"
   ],
   "metadata": {
    "collapsed": false,
    "pycharm": {
     "name": "#%%\n"
    }
   }
  },
  {
   "cell_type": "markdown",
   "source": [
    "## Calculate mean of scores"
   ],
   "metadata": {
    "collapsed": false,
    "pycharm": {
     "name": "#%% md\n"
    }
   }
  },
  {
   "cell_type": "code",
   "execution_count": 78,
   "outputs": [
    {
     "data": {
      "text/plain": "13.333333333333334"
     },
     "execution_count": 78,
     "metadata": {},
     "output_type": "execute_result"
    }
   ],
   "source": [
    "df.score.mean()"
   ],
   "metadata": {
    "collapsed": false,
    "pycharm": {
     "name": "#%%\n"
    }
   }
  },
  {
   "cell_type": "markdown",
   "source": [
    "## Adding a new row to the dataframe"
   ],
   "metadata": {
    "collapsed": false,
    "pycharm": {
     "name": "#%% md\n"
    }
   }
  },
  {
   "cell_type": "code",
   "execution_count": 79,
   "outputs": [
    {
     "data": {
      "text/plain": "        name  score  attempts qualify\na  Anastasia   12.5         1     yes\nb       Dima    9.0         3      no\nc  Katherine   16.5         2     yes\nd      James   11.5         3      no\ne      Emily    9.0         2      no\nf    Michael   20.0         3     yes\ng    Matthew   14.5         1     yes\nh      Laura    NaN         1      no\ni      Kevin    8.0         2      no\nj      Jonas   19.0         1     yes\nk     Suresh   15.5         1     yes",
      "text/html": "<div>\n<style scoped>\n    .dataframe tbody tr th:only-of-type {\n        vertical-align: middle;\n    }\n\n    .dataframe tbody tr th {\n        vertical-align: top;\n    }\n\n    .dataframe thead th {\n        text-align: right;\n    }\n</style>\n<table border=\"1\" class=\"dataframe\">\n  <thead>\n    <tr style=\"text-align: right;\">\n      <th></th>\n      <th>name</th>\n      <th>score</th>\n      <th>attempts</th>\n      <th>qualify</th>\n    </tr>\n  </thead>\n  <tbody>\n    <tr>\n      <th>a</th>\n      <td>Anastasia</td>\n      <td>12.5</td>\n      <td>1</td>\n      <td>yes</td>\n    </tr>\n    <tr>\n      <th>b</th>\n      <td>Dima</td>\n      <td>9.0</td>\n      <td>3</td>\n      <td>no</td>\n    </tr>\n    <tr>\n      <th>c</th>\n      <td>Katherine</td>\n      <td>16.5</td>\n      <td>2</td>\n      <td>yes</td>\n    </tr>\n    <tr>\n      <th>d</th>\n      <td>James</td>\n      <td>11.5</td>\n      <td>3</td>\n      <td>no</td>\n    </tr>\n    <tr>\n      <th>e</th>\n      <td>Emily</td>\n      <td>9.0</td>\n      <td>2</td>\n      <td>no</td>\n    </tr>\n    <tr>\n      <th>f</th>\n      <td>Michael</td>\n      <td>20.0</td>\n      <td>3</td>\n      <td>yes</td>\n    </tr>\n    <tr>\n      <th>g</th>\n      <td>Matthew</td>\n      <td>14.5</td>\n      <td>1</td>\n      <td>yes</td>\n    </tr>\n    <tr>\n      <th>h</th>\n      <td>Laura</td>\n      <td>NaN</td>\n      <td>1</td>\n      <td>no</td>\n    </tr>\n    <tr>\n      <th>i</th>\n      <td>Kevin</td>\n      <td>8.0</td>\n      <td>2</td>\n      <td>no</td>\n    </tr>\n    <tr>\n      <th>j</th>\n      <td>Jonas</td>\n      <td>19.0</td>\n      <td>1</td>\n      <td>yes</td>\n    </tr>\n    <tr>\n      <th>k</th>\n      <td>Suresh</td>\n      <td>15.5</td>\n      <td>1</td>\n      <td>yes</td>\n    </tr>\n  </tbody>\n</table>\n</div>"
     },
     "execution_count": 79,
     "metadata": {},
     "output_type": "execute_result"
    }
   ],
   "source": [
    "df.loc[\"k\"]=[\"Suresh\",15.5,1,\"yes\"]\n",
    "df"
   ],
   "metadata": {
    "collapsed": false,
    "pycharm": {
     "name": "#%%\n"
    }
   }
  },
  {
   "cell_type": "markdown",
   "source": [
    "## Dropping the k th row"
   ],
   "metadata": {
    "collapsed": false,
    "pycharm": {
     "name": "#%% md\n"
    }
   }
  },
  {
   "cell_type": "code",
   "execution_count": 80,
   "outputs": [
    {
     "data": {
      "text/plain": "        name  score  attempts qualify\na  Anastasia   12.5         1     yes\nb       Dima    9.0         3      no\nc  Katherine   16.5         2     yes\nd      James   11.5         3      no\ne      Emily    9.0         2      no\nf    Michael   20.0         3     yes\ng    Matthew   14.5         1     yes\nh      Laura    NaN         1      no\ni      Kevin    8.0         2      no\nj      Jonas   19.0         1     yes",
      "text/html": "<div>\n<style scoped>\n    .dataframe tbody tr th:only-of-type {\n        vertical-align: middle;\n    }\n\n    .dataframe tbody tr th {\n        vertical-align: top;\n    }\n\n    .dataframe thead th {\n        text-align: right;\n    }\n</style>\n<table border=\"1\" class=\"dataframe\">\n  <thead>\n    <tr style=\"text-align: right;\">\n      <th></th>\n      <th>name</th>\n      <th>score</th>\n      <th>attempts</th>\n      <th>qualify</th>\n    </tr>\n  </thead>\n  <tbody>\n    <tr>\n      <th>a</th>\n      <td>Anastasia</td>\n      <td>12.5</td>\n      <td>1</td>\n      <td>yes</td>\n    </tr>\n    <tr>\n      <th>b</th>\n      <td>Dima</td>\n      <td>9.0</td>\n      <td>3</td>\n      <td>no</td>\n    </tr>\n    <tr>\n      <th>c</th>\n      <td>Katherine</td>\n      <td>16.5</td>\n      <td>2</td>\n      <td>yes</td>\n    </tr>\n    <tr>\n      <th>d</th>\n      <td>James</td>\n      <td>11.5</td>\n      <td>3</td>\n      <td>no</td>\n    </tr>\n    <tr>\n      <th>e</th>\n      <td>Emily</td>\n      <td>9.0</td>\n      <td>2</td>\n      <td>no</td>\n    </tr>\n    <tr>\n      <th>f</th>\n      <td>Michael</td>\n      <td>20.0</td>\n      <td>3</td>\n      <td>yes</td>\n    </tr>\n    <tr>\n      <th>g</th>\n      <td>Matthew</td>\n      <td>14.5</td>\n      <td>1</td>\n      <td>yes</td>\n    </tr>\n    <tr>\n      <th>h</th>\n      <td>Laura</td>\n      <td>NaN</td>\n      <td>1</td>\n      <td>no</td>\n    </tr>\n    <tr>\n      <th>i</th>\n      <td>Kevin</td>\n      <td>8.0</td>\n      <td>2</td>\n      <td>no</td>\n    </tr>\n    <tr>\n      <th>j</th>\n      <td>Jonas</td>\n      <td>19.0</td>\n      <td>1</td>\n      <td>yes</td>\n    </tr>\n  </tbody>\n</table>\n</div>"
     },
     "execution_count": 80,
     "metadata": {},
     "output_type": "execute_result"
    }
   ],
   "source": [
    "df.drop(\"k\")"
   ],
   "metadata": {
    "collapsed": false,
    "pycharm": {
     "name": "#%%\n"
    }
   }
  },
  {
   "cell_type": "markdown",
   "source": [
    "## Sorting by columns"
   ],
   "metadata": {
    "collapsed": false,
    "pycharm": {
     "name": "#%% md\n"
    }
   }
  },
  {
   "cell_type": "code",
   "execution_count": 81,
   "outputs": [
    {
     "data": {
      "text/plain": "        name  score  attempts qualify\nk     Suresh   15.5         1     yes\nf    Michael   20.0         3     yes\ng    Matthew   14.5         1     yes\nh      Laura    NaN         1      no\ni      Kevin    8.0         2      no\nc  Katherine   16.5         2     yes\nj      Jonas   19.0         1     yes\nd      James   11.5         3      no\ne      Emily    9.0         2      no\nb       Dima    9.0         3      no\na  Anastasia   12.5         1     yes",
      "text/html": "<div>\n<style scoped>\n    .dataframe tbody tr th:only-of-type {\n        vertical-align: middle;\n    }\n\n    .dataframe tbody tr th {\n        vertical-align: top;\n    }\n\n    .dataframe thead th {\n        text-align: right;\n    }\n</style>\n<table border=\"1\" class=\"dataframe\">\n  <thead>\n    <tr style=\"text-align: right;\">\n      <th></th>\n      <th>name</th>\n      <th>score</th>\n      <th>attempts</th>\n      <th>qualify</th>\n    </tr>\n  </thead>\n  <tbody>\n    <tr>\n      <th>k</th>\n      <td>Suresh</td>\n      <td>15.5</td>\n      <td>1</td>\n      <td>yes</td>\n    </tr>\n    <tr>\n      <th>f</th>\n      <td>Michael</td>\n      <td>20.0</td>\n      <td>3</td>\n      <td>yes</td>\n    </tr>\n    <tr>\n      <th>g</th>\n      <td>Matthew</td>\n      <td>14.5</td>\n      <td>1</td>\n      <td>yes</td>\n    </tr>\n    <tr>\n      <th>h</th>\n      <td>Laura</td>\n      <td>NaN</td>\n      <td>1</td>\n      <td>no</td>\n    </tr>\n    <tr>\n      <th>i</th>\n      <td>Kevin</td>\n      <td>8.0</td>\n      <td>2</td>\n      <td>no</td>\n    </tr>\n    <tr>\n      <th>c</th>\n      <td>Katherine</td>\n      <td>16.5</td>\n      <td>2</td>\n      <td>yes</td>\n    </tr>\n    <tr>\n      <th>j</th>\n      <td>Jonas</td>\n      <td>19.0</td>\n      <td>1</td>\n      <td>yes</td>\n    </tr>\n    <tr>\n      <th>d</th>\n      <td>James</td>\n      <td>11.5</td>\n      <td>3</td>\n      <td>no</td>\n    </tr>\n    <tr>\n      <th>e</th>\n      <td>Emily</td>\n      <td>9.0</td>\n      <td>2</td>\n      <td>no</td>\n    </tr>\n    <tr>\n      <th>b</th>\n      <td>Dima</td>\n      <td>9.0</td>\n      <td>3</td>\n      <td>no</td>\n    </tr>\n    <tr>\n      <th>a</th>\n      <td>Anastasia</td>\n      <td>12.5</td>\n      <td>1</td>\n      <td>yes</td>\n    </tr>\n  </tbody>\n</table>\n</div>"
     },
     "execution_count": 81,
     "metadata": {},
     "output_type": "execute_result"
    }
   ],
   "source": [
    "df.sort_values(by='name', ascending= False)"
   ],
   "metadata": {
    "collapsed": false,
    "pycharm": {
     "name": "#%%\n"
    }
   }
  },
  {
   "cell_type": "code",
   "execution_count": 82,
   "outputs": [
    {
     "data": {
      "text/plain": "        name  score  attempts qualify\ni      Kevin    8.0         2      no\nb       Dima    9.0         3      no\ne      Emily    9.0         2      no\nd      James   11.5         3      no\na  Anastasia   12.5         1     yes\ng    Matthew   14.5         1     yes\nk     Suresh   15.5         1     yes\nc  Katherine   16.5         2     yes\nj      Jonas   19.0         1     yes\nf    Michael   20.0         3     yes",
      "text/html": "<div>\n<style scoped>\n    .dataframe tbody tr th:only-of-type {\n        vertical-align: middle;\n    }\n\n    .dataframe tbody tr th {\n        vertical-align: top;\n    }\n\n    .dataframe thead th {\n        text-align: right;\n    }\n</style>\n<table border=\"1\" class=\"dataframe\">\n  <thead>\n    <tr style=\"text-align: right;\">\n      <th></th>\n      <th>name</th>\n      <th>score</th>\n      <th>attempts</th>\n      <th>qualify</th>\n    </tr>\n  </thead>\n  <tbody>\n    <tr>\n      <th>i</th>\n      <td>Kevin</td>\n      <td>8.0</td>\n      <td>2</td>\n      <td>no</td>\n    </tr>\n    <tr>\n      <th>b</th>\n      <td>Dima</td>\n      <td>9.0</td>\n      <td>3</td>\n      <td>no</td>\n    </tr>\n    <tr>\n      <th>e</th>\n      <td>Emily</td>\n      <td>9.0</td>\n      <td>2</td>\n      <td>no</td>\n    </tr>\n    <tr>\n      <th>d</th>\n      <td>James</td>\n      <td>11.5</td>\n      <td>3</td>\n      <td>no</td>\n    </tr>\n    <tr>\n      <th>a</th>\n      <td>Anastasia</td>\n      <td>12.5</td>\n      <td>1</td>\n      <td>yes</td>\n    </tr>\n    <tr>\n      <th>g</th>\n      <td>Matthew</td>\n      <td>14.5</td>\n      <td>1</td>\n      <td>yes</td>\n    </tr>\n    <tr>\n      <th>k</th>\n      <td>Suresh</td>\n      <td>15.5</td>\n      <td>1</td>\n      <td>yes</td>\n    </tr>\n    <tr>\n      <th>c</th>\n      <td>Katherine</td>\n      <td>16.5</td>\n      <td>2</td>\n      <td>yes</td>\n    </tr>\n    <tr>\n      <th>j</th>\n      <td>Jonas</td>\n      <td>19.0</td>\n      <td>1</td>\n      <td>yes</td>\n    </tr>\n    <tr>\n      <th>f</th>\n      <td>Michael</td>\n      <td>20.0</td>\n      <td>3</td>\n      <td>yes</td>\n    </tr>\n  </tbody>\n</table>\n</div>"
     },
     "execution_count": 82,
     "metadata": {},
     "output_type": "execute_result"
    }
   ],
   "source": [
    "df.sort_values(by = \"score\",ascending= True).dropna()"
   ],
   "metadata": {
    "collapsed": false,
    "pycharm": {
     "name": "#%%\n"
    }
   }
  },
  {
   "cell_type": "markdown",
   "source": [
    "## Replacing values of qualify column to pass or fail"
   ],
   "metadata": {
    "collapsed": false,
    "pycharm": {
     "name": "#%% md\n"
    }
   }
  },
  {
   "cell_type": "code",
   "execution_count": 83,
   "outputs": [],
   "source": [
    "df[\"qualify\"] = df[\"qualify\"].map({\"yes\":\"Pass\",\"no\":\"Fail\"})"
   ],
   "metadata": {
    "collapsed": false,
    "pycharm": {
     "name": "#%%\n"
    }
   }
  },
  {
   "cell_type": "markdown",
   "source": [
    "df"
   ],
   "metadata": {
    "collapsed": false,
    "pycharm": {
     "name": "#%% md\n"
    }
   }
  },
  {
   "cell_type": "markdown",
   "source": [
    "## deleting column from dataframs"
   ],
   "metadata": {
    "collapsed": false,
    "pycharm": {
     "name": "#%% md\n"
    }
   }
  },
  {
   "cell_type": "code",
   "execution_count": 84,
   "outputs": [
    {
     "data": {
      "text/plain": "a    1\nb    3\nc    2\nd    3\ne    2\nf    3\ng    1\nh    1\ni    2\nj    1\nk    1\nName: attempts, dtype: int64"
     },
     "execution_count": 84,
     "metadata": {},
     "output_type": "execute_result"
    }
   ],
   "source": [
    "df.pop(\"attempts\")"
   ],
   "metadata": {
    "collapsed": false,
    "pycharm": {
     "name": "#%%\n"
    }
   }
  },
  {
   "cell_type": "markdown",
   "source": [
    "## Adding new colour column to the dataframe"
   ],
   "metadata": {
    "collapsed": false,
    "pycharm": {
     "name": "#%% md\n"
    }
   }
  },
  {
   "cell_type": "code",
   "execution_count": 85,
   "outputs": [],
   "source": [
    "df[\"colour\"]=['Red','Blue','Orange','Red','White','White','Blue','Green','Green','Red',\"Blue\"]"
   ],
   "metadata": {
    "collapsed": false,
    "pycharm": {
     "name": "#%%\n"
    }
   }
  },
  {
   "cell_type": "code",
   "execution_count": 86,
   "outputs": [
    {
     "data": {
      "text/plain": "        name  score qualify  colour\na  Anastasia   12.5    Pass     Red\nb       Dima    9.0    Fail    Blue\nc  Katherine   16.5    Pass  Orange\nd      James   11.5    Fail     Red\ne      Emily    9.0    Fail   White\nf    Michael   20.0    Pass   White\ng    Matthew   14.5    Pass    Blue\nh      Laura    NaN    Fail   Green\ni      Kevin    8.0    Fail   Green\nj      Jonas   19.0    Pass     Red\nk     Suresh   15.5    Pass    Blue",
      "text/html": "<div>\n<style scoped>\n    .dataframe tbody tr th:only-of-type {\n        vertical-align: middle;\n    }\n\n    .dataframe tbody tr th {\n        vertical-align: top;\n    }\n\n    .dataframe thead th {\n        text-align: right;\n    }\n</style>\n<table border=\"1\" class=\"dataframe\">\n  <thead>\n    <tr style=\"text-align: right;\">\n      <th></th>\n      <th>name</th>\n      <th>score</th>\n      <th>qualify</th>\n      <th>colour</th>\n    </tr>\n  </thead>\n  <tbody>\n    <tr>\n      <th>a</th>\n      <td>Anastasia</td>\n      <td>12.5</td>\n      <td>Pass</td>\n      <td>Red</td>\n    </tr>\n    <tr>\n      <th>b</th>\n      <td>Dima</td>\n      <td>9.0</td>\n      <td>Fail</td>\n      <td>Blue</td>\n    </tr>\n    <tr>\n      <th>c</th>\n      <td>Katherine</td>\n      <td>16.5</td>\n      <td>Pass</td>\n      <td>Orange</td>\n    </tr>\n    <tr>\n      <th>d</th>\n      <td>James</td>\n      <td>11.5</td>\n      <td>Fail</td>\n      <td>Red</td>\n    </tr>\n    <tr>\n      <th>e</th>\n      <td>Emily</td>\n      <td>9.0</td>\n      <td>Fail</td>\n      <td>White</td>\n    </tr>\n    <tr>\n      <th>f</th>\n      <td>Michael</td>\n      <td>20.0</td>\n      <td>Pass</td>\n      <td>White</td>\n    </tr>\n    <tr>\n      <th>g</th>\n      <td>Matthew</td>\n      <td>14.5</td>\n      <td>Pass</td>\n      <td>Blue</td>\n    </tr>\n    <tr>\n      <th>h</th>\n      <td>Laura</td>\n      <td>NaN</td>\n      <td>Fail</td>\n      <td>Green</td>\n    </tr>\n    <tr>\n      <th>i</th>\n      <td>Kevin</td>\n      <td>8.0</td>\n      <td>Fail</td>\n      <td>Green</td>\n    </tr>\n    <tr>\n      <th>j</th>\n      <td>Jonas</td>\n      <td>19.0</td>\n      <td>Pass</td>\n      <td>Red</td>\n    </tr>\n    <tr>\n      <th>k</th>\n      <td>Suresh</td>\n      <td>15.5</td>\n      <td>Pass</td>\n      <td>Blue</td>\n    </tr>\n  </tbody>\n</table>\n</div>"
     },
     "execution_count": 86,
     "metadata": {},
     "output_type": "execute_result"
    }
   ],
   "source": [
    "df"
   ],
   "metadata": {
    "collapsed": false,
    "pycharm": {
     "name": "#%%\n"
    }
   }
  },
  {
   "cell_type": "markdown",
   "source": [
    "## iterate over rows"
   ],
   "metadata": {
    "collapsed": false,
    "pycharm": {
     "name": "#%% md\n"
    }
   }
  },
  {
   "cell_type": "code",
   "execution_count": 87,
   "outputs": [
    {
     "name": "stdout",
     "output_type": "stream",
     "text": [
      "Anastasia 12.5\n",
      "Dima 9.0\n",
      "Katherine 16.5\n",
      "James 11.5\n",
      "Emily 9.0\n",
      "Michael 20.0\n",
      "Matthew 14.5\n",
      "Laura nan\n",
      "Kevin 8.0\n",
      "Jonas 19.0\n",
      "Suresh 15.5\n"
     ]
    }
   ],
   "source": [
    "for index, row in df.iterrows():\n",
    "    print(row[\"name\"],row[\"score\"])"
   ],
   "metadata": {
    "collapsed": false,
    "pycharm": {
     "name": "#%%\n"
    }
   }
  },
  {
   "cell_type": "markdown",
   "source": [
    "## Get list from dataframe column headers"
   ],
   "metadata": {
    "collapsed": false,
    "pycharm": {
     "name": "#%% md\n"
    }
   }
  },
  {
   "cell_type": "code",
   "execution_count": 88,
   "outputs": [
    {
     "name": "stdout",
     "output_type": "stream",
     "text": [
      "['name', 'score', 'qualify', 'colour']\n"
     ]
    }
   ],
   "source": [
    "print(list(df.columns.values))"
   ],
   "metadata": {
    "collapsed": false,
    "pycharm": {
     "name": "#%%\n"
    }
   }
  },
  {
   "cell_type": "code",
   "execution_count": 61,
   "outputs": [],
   "source": [],
   "metadata": {
    "collapsed": false,
    "pycharm": {
     "name": "#%%\n"
    }
   }
  }
 ],
 "metadata": {
  "kernelspec": {
   "display_name": "Python 3",
   "language": "python",
   "name": "python3"
  },
  "language_info": {
   "codemirror_mode": {
    "name": "ipython",
    "version": 2
   },
   "file_extension": ".py",
   "mimetype": "text/x-python",
   "name": "python",
   "nbconvert_exporter": "python",
   "pygments_lexer": "ipython2",
   "version": "2.7.6"
  }
 },
 "nbformat": 4,
 "nbformat_minor": 0
}